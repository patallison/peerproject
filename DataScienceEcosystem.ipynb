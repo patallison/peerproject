{
 "cells": [
  {
   "cell_type": "markdown",
   "id": "d828734a-60c7-4115-a184-790e396ea26c",
   "metadata": {},
   "source": [
    "# Data Science Tools and Ecosystem"
   ]
  },
  {
   "cell_type": "markdown",
   "id": "8c00b14f-2b85-4c38-b64f-a10f7b0f62da",
   "metadata": {},
   "source": [
    "In this notebook, Data Science Tools and Ecosystem are summarized."
   ]
  },
  {
   "cell_type": "markdown",
   "id": "3d0f3b9c-9d4b-4d83-81f1-649a56a00448",
   "metadata": {},
   "source": [
    "__Objectives__\n",
    "+ List Popular languages for Data Science\n",
    "+ List commonly used libraries by Data Scientists\n",
    "+ List Data science development environments open source tools\n",
    "+ Perform basic arithmetic expressions in python"
   ]
  },
  {
   "cell_type": "markdown",
   "id": "1cfb9b99-a5f3-43f8-8c29-d5b22d7563a5",
   "metadata": {},
   "source": [
    "Some of the popular languages that Data Scientists use are:\n",
    "1. python\n",
    "2. R\n",
    "2. SQL\n",
    "4. Julia\n",
    "5. Java"
   ]
  },
  {
   "cell_type": "markdown",
   "id": "8164e7e5-1abe-4efa-ab15-210cf83d737a",
   "metadata": {
    "tags": []
   },
   "source": [
    "Some of the commonly used libraries by Data Scientists include:\n",
    "1. Pandas\n",
    "2. NumPy\n",
    "3. Matplotlib\n",
    "4. SciPy"
   ]
  },
  {
   "cell_type": "markdown",
   "id": "e78c540e-5026-43cf-b35e-0b881de69266",
   "metadata": {
    "tags": []
   },
   "source": [
    "| Data Science Tools|\n",
    "|-------|\n",
    "|Jupyter Notebook|\n",
    "|Rstudio|\n",
    "|Spyder|"
   ]
  },
  {
   "cell_type": "markdown",
   "id": "ad9eaaff-735e-4362-9ae7-0eac8c5b45e7",
   "metadata": {},
   "source": [
    "### Below are a few examples of evaluating arithmetic expressions in Python"
   ]
  },
  {
   "cell_type": "code",
   "execution_count": 3,
   "id": "68efc1a4-1825-4f1b-8d95-ecff8c4a200f",
   "metadata": {
    "tags": []
   },
   "outputs": [
    {
     "data": {
      "text/plain": [
       "17"
      ]
     },
     "execution_count": 3,
     "metadata": {},
     "output_type": "execute_result"
    }
   ],
   "source": [
    "# This a simple arithmetic expression to mutiply then add integers\n",
    "(3*4)+5"
   ]
  },
  {
   "cell_type": "code",
   "execution_count": 4,
   "id": "479ae532-3549-4cfc-80ee-8d8f86bcf2c1",
   "metadata": {
    "tags": []
   },
   "outputs": [
    {
     "data": {
      "text/plain": [
       "3.3333333333333335"
      ]
     },
     "execution_count": 4,
     "metadata": {},
     "output_type": "execute_result"
    }
   ],
   "source": [
    "# This will convert 200 minutes to hours by diving by 60\n",
    "200/60"
   ]
  },
  {
   "cell_type": "markdown",
   "id": "ebc5c399-4908-4846-9e6f-62f2742202f4",
   "metadata": {},
   "source": [
    "## Author\n",
    "Patience Allison"
   ]
  }
 ],
 "metadata": {
  "kernelspec": {
   "display_name": "Python",
   "language": "python",
   "name": "conda-env-python-py"
  },
  "language_info": {
   "codemirror_mode": {
    "name": "ipython",
    "version": 3
   },
   "file_extension": ".py",
   "mimetype": "text/x-python",
   "name": "python",
   "nbconvert_exporter": "python",
   "pygments_lexer": "ipython3",
   "version": "3.7.12"
  }
 },
 "nbformat": 4,
 "nbformat_minor": 5
}
